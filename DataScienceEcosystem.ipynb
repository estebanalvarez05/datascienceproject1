{
 "cells": [
  {
   "cell_type": "markdown",
   "id": "f5079609-0164-4c7e-ba7e-77379695f3c1",
   "metadata": {
    "tags": []
   },
   "source": [
    "# Data Science Tools and Ecosystem"
   ]
  },
  {
   "cell_type": "markdown",
   "id": "29368ab4-9eda-4f12-a9a3-557e7c3f0c3e",
   "metadata": {},
   "source": [
    "### In this Notebook, Data Science Tools and Ecosystem are summarized"
   ]
  },
  {
   "cell_type": "markdown",
   "id": "f68fe5b7-7539-4fcb-b45f-aad0b3aae4ef",
   "metadata": {},
   "source": [
    "## *Objectives*\n",
    "+ Languages for Data Science\n",
    "+ Libraries for Data Science\n",
    "+ Tools for Data Science\n",
    "+ Arithmetic Expressions"
   ]
  },
  {
   "cell_type": "markdown",
   "id": "3837d721-99b3-4503-95e8-c992e1331988",
   "metadata": {},
   "source": [
    "#### Some of most the popular languages that Data Scientists use are: \n",
    "1. Python\n",
    "2. R\n",
    "3. SQL"
   ]
  },
  {
   "cell_type": "markdown",
   "id": "ee21cfa5-c1c0-408d-9b00-6eba42b247e8",
   "metadata": {},
   "source": [
    "#### Some of the commonly used libraries used by Data Scientists includes:\n",
    "1. Pandas\n",
    "2. NumPy\n",
    "3. Scpiy\n",
    "4. MatPlotlib"
   ]
  },
  {
   "cell_type": "markdown",
   "id": "9a18ce4c-3d72-451c-a37f-10ed16691bda",
   "metadata": {},
   "source": [
    "| Data Science Tools |\n",
    "|:------------------:|\n",
    "| MySQL              |\n",
    "| Jupyter Lab        |\n",
    "| Apache Spark       |\n"
   ]
  },
  {
   "cell_type": "markdown",
   "id": "f6784104-728b-4813-b5ab-75e8853fcf70",
   "metadata": {},
   "source": [
    "### Below are a few examples of evaluating arithmetic expressions in Python"
   ]
  },
  {
   "cell_type": "code",
   "execution_count": 10,
   "id": "1b62b7eb-79a6-4156-91cc-03e6b3625bee",
   "metadata": {},
   "outputs": [
    {
     "data": {
      "text/plain": [
       "17"
      ]
     },
     "execution_count": 10,
     "metadata": {},
     "output_type": "execute_result"
    }
   ],
   "source": [
    "#This is a simple arithmetic expression to multiply then add integers\n",
    "(3*4)+5"
   ]
  },
  {
   "cell_type": "code",
   "execution_count": 12,
   "id": "160721d5-a86a-4285-a9a6-c072cbd6823c",
   "metadata": {},
   "outputs": [
    {
     "data": {
      "text/plain": [
       "3.3333333333333335"
      ]
     },
     "execution_count": 12,
     "metadata": {},
     "output_type": "execute_result"
    }
   ],
   "source": [
    "# This will convert 200 minutes to hours by dividing by 60\n",
    "200/60"
   ]
  },
  {
   "cell_type": "markdown",
   "id": "33b0f39a-cdc7-46e1-9ed0-5c473b9476fe",
   "metadata": {},
   "source": [
    "## Author\n",
    "Esteban Alvarez"
   ]
  },
  {
   "cell_type": "code",
   "execution_count": null,
   "id": "f256001e-c918-406f-ad7d-b0e3b2e63d38",
   "metadata": {},
   "outputs": [],
   "source": []
  }
 ],
 "metadata": {
  "kernelspec": {
   "display_name": "Python 3 (ipykernel)",
   "language": "python",
   "name": "python3"
  },
  "language_info": {
   "codemirror_mode": {
    "name": "ipython",
    "version": 3
   },
   "file_extension": ".py",
   "mimetype": "text/x-python",
   "name": "python",
   "nbconvert_exporter": "python",
   "pygments_lexer": "ipython3",
   "version": "3.9.13"
  }
 },
 "nbformat": 4,
 "nbformat_minor": 5
}
